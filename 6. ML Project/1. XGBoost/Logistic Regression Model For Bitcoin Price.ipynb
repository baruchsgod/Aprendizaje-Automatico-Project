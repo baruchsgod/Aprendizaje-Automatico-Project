{
 "cells": [
  {
   "cell_type": "code",
   "execution_count": 218,
   "id": "2cade2b7",
   "metadata": {},
   "outputs": [],
   "source": [
    "import pandas as pd\n",
    "import numpy as np\n",
    "import pandas_ta as ta\n",
    "from sklearn.model_selection import train_test_split, GridSearchCV\n",
    "from sklearn.linear_model import LogisticRegression\n",
    "from sklearn.metrics import accuracy_score, precision_score, recall_score, f1_score, confusion_matrix\n",
    "import matplotlib.pyplot as plt\n",
    "from sklearn.impute import SimpleImputer\n",
    "from binance.client import Client\n",
    "from binance import ThreadedWebsocketManager\n",
    "from sklearn.preprocessing import LabelEncoder\n",
    "from os import getenv"
   ]
  },
  {
   "cell_type": "code",
   "execution_count": 219,
   "id": "1e97393a",
   "metadata": {},
   "outputs": [],
   "source": [
    "api_key = getenv('api_key')\n",
    "secret_key = getenv('api_secret')"
   ]
  },
  {
   "cell_type": "code",
   "execution_count": 220,
   "id": "3d981d22",
   "metadata": {},
   "outputs": [],
   "source": [
    "# Encode the target labels\n",
    "lr_trend = LabelEncoder()\n",
    "lr_action = LabelEncoder()\n",
    "lr_amount = LabelEncoder()"
   ]
  },
  {
   "cell_type": "code",
   "execution_count": 221,
   "id": "97bc3df2",
   "metadata": {},
   "outputs": [],
   "source": [
    "client = Client(api_key = api_key, api_secret= secret_key, tld= 'com')"
   ]
  },
  {
   "cell_type": "code",
   "execution_count": 222,
   "id": "24cbaa3b",
   "metadata": {},
   "outputs": [
    {
     "data": {
      "text/plain": [
       "<binance.client.Client at 0x2946d667b20>"
      ]
     },
     "execution_count": 222,
     "metadata": {},
     "output_type": "execute_result"
    }
   ],
   "source": [
    "client"
   ]
  },
  {
   "cell_type": "code",
   "execution_count": 223,
   "id": "477f57a8",
   "metadata": {},
   "outputs": [],
   "source": [
    "symbol = 'BTCUSDT'\n",
    "interval = Client.KLINE_INTERVAL_5MINUTE\n",
    "start_date = '2023-01-01'\n",
    "end_date = '2024-11-02'"
   ]
  },
  {
   "cell_type": "code",
   "execution_count": 224,
   "id": "1322b304",
   "metadata": {},
   "outputs": [],
   "source": [
    "data = client.get_historical_klines(symbol, interval, start_str=start_date,end_str=end_date)"
   ]
  },
  {
   "cell_type": "code",
   "execution_count": 225,
   "id": "8014065d",
   "metadata": {},
   "outputs": [],
   "source": [
    "df = pd.DataFrame(data, columns=[\n",
    "    'timestamp', 'open', 'high', 'low', 'close', 'volume', 'close_time',\n",
    "    'quote_asset_volume', 'number_of_trades', 'taker_buy_base_asset_volume',\n",
    "    'taker_buy_quote_asset_volume', 'ignore'\n",
    "])"
   ]
  },
  {
   "cell_type": "code",
   "execution_count": 226,
   "id": "ed907a98",
   "metadata": {},
   "outputs": [],
   "source": [
    "#Data Manipulation\n",
    "# Convert the 'timestamp' column to a readable date format\n",
    "df['timestamp'] = pd.to_datetime(df['timestamp'], unit='ms')\n",
    "df.set_index('timestamp', inplace=True)\n",
    "\n",
    "# Select relevant columns\n",
    "df = df[['open', 'high', 'low', 'close', 'volume']]\n",
    "\n",
    "# Convert data types to numeric for analysis\n",
    "df = df.apply(pd.to_numeric)"
   ]
  },
  {
   "cell_type": "code",
   "execution_count": 227,
   "id": "eebcad6e",
   "metadata": {},
   "outputs": [],
   "source": [
    "dataset = df"
   ]
  },
  {
   "cell_type": "code",
   "execution_count": 228,
   "id": "93450d4f",
   "metadata": {},
   "outputs": [],
   "source": [
    "# Assuming 'data' is your DataFrame with 'close' and 'volume' columns\n",
    "dataset['RSI'] = ta.rsi(dataset['close'], length=14)\n",
    "# Adding the MA calculations\n",
    "dataset['EMA_5'] = dataset['close'].ewm(span=5, adjust=False).mean()\n",
    "dataset['EMA_30'] = dataset['close'].ewm(span=30, adjust=False).mean()\n",
    "dataset['EMA_90'] = dataset['close'].ewm(span=90, adjust=False).mean()\n",
    "#Volume \n",
    "dataset['volume_sma_3'] = dataset['volume'].rolling(window=3).mean()  # 3-day SMA for volume\n",
    "# Calculate Bollinger Bands\n",
    "bbands = ta.bbands(dataset['close'], length=20, std=2)"
   ]
  },
  {
   "cell_type": "code",
   "execution_count": 229,
   "id": "565e6f8d",
   "metadata": {},
   "outputs": [],
   "source": [
    "#Adding the limits of the Bollinger Bands\n",
    "dataset['BB_upper'] = bbands['BBU_20_2.0']\n",
    "dataset['BB_middle'] = bbands['BBM_20_2.0']\n",
    "dataset['BB_lower'] = bbands['BBL_20_2.0']"
   ]
  },
  {
   "cell_type": "code",
   "execution_count": 230,
   "id": "f813a4ae",
   "metadata": {},
   "outputs": [],
   "source": [
    "# Step 2: Determine trend based on EMA alignment\n",
    "def determine_trend(row):\n",
    "    if (row['EMA_5'] > row['EMA_30'] > row['EMA_90']) & (row['close'] > row['BB_middle']) & (row['RSI'] < 70) & (row['volume'] > row['volume_sma_3']):\n",
    "        return 'strong_upward'\n",
    "    elif (row['EMA_5'] < row['EMA_30'] < row['EMA_90']) & (row['close'] < row['BB_middle']) & (row['RSI'] > 30):\n",
    "        return 'strong_downward'\n",
    "    elif (row['EMA_5'] > row['EMA_30'] < row['EMA_90']) & (row['RSI'] > 30) & (row['close'] < row['BB_middle']) & (row['volume'] < row['volume_sma_3']):\n",
    "        return 'downward'\n",
    "    elif (row['EMA_5'] < row['EMA_30'] > row['EMA_90']) & (row['RSI'] < 70) & (row['close'] > row['BB_lower']) & (row['volume'] > row['volume_sma_3']):\n",
    "        return 'upward'\n",
    "    else:\n",
    "        return 'sideways'"
   ]
  },
  {
   "cell_type": "code",
   "execution_count": 231,
   "id": "d457bbec",
   "metadata": {},
   "outputs": [],
   "source": [
    "dataset['trend'] = dataset.apply(determine_trend, axis=1)"
   ]
  },
  {
   "cell_type": "code",
   "execution_count": 232,
   "id": "085d198b",
   "metadata": {},
   "outputs": [],
   "source": [
    "# Step 3: Define actions and amounts based on the trend\n",
    "def determine_action_amount(trend):\n",
    "    if trend == 'strong_upward':\n",
    "        return 'buy', 'all'\n",
    "    elif trend == 'upward':\n",
    "        return 'buy', 'half'\n",
    "    elif trend == 'sideways':\n",
    "        return 'hold', 'half'\n",
    "    elif trend == 'downward':\n",
    "        return 'sell', 'half'\n",
    "    elif trend == 'strong_downward':\n",
    "        return 'sell', 'all'\n",
    "    else:\n",
    "        return 'hold', 'none'"
   ]
  },
  {
   "cell_type": "code",
   "execution_count": 233,
   "id": "417b5e56",
   "metadata": {},
   "outputs": [],
   "source": [
    "dataset[['action', 'amount']] = dataset['trend'].apply(lambda x: pd.Series(determine_action_amount(x)))"
   ]
  },
  {
   "cell_type": "code",
   "execution_count": 234,
   "id": "6d3d716a",
   "metadata": {},
   "outputs": [],
   "source": [
    "# Target columns (shifted to predict the next action)\n",
    "dataset['target_trend'] = dataset['trend'].shift(-1)\n",
    "dataset['target_action'] = dataset['action'].shift(-1)\n",
    "dataset['target_amount'] = dataset['amount'].shift(-1)"
   ]
  },
  {
   "cell_type": "code",
   "execution_count": 235,
   "id": "ed1d0338",
   "metadata": {},
   "outputs": [
    {
     "data": {
      "text/html": [
       "<div>\n",
       "<style scoped>\n",
       "    .dataframe tbody tr th:only-of-type {\n",
       "        vertical-align: middle;\n",
       "    }\n",
       "\n",
       "    .dataframe tbody tr th {\n",
       "        vertical-align: top;\n",
       "    }\n",
       "\n",
       "    .dataframe thead th {\n",
       "        text-align: right;\n",
       "    }\n",
       "</style>\n",
       "<table border=\"1\" class=\"dataframe\">\n",
       "  <thead>\n",
       "    <tr style=\"text-align: right;\">\n",
       "      <th></th>\n",
       "      <th>open</th>\n",
       "      <th>high</th>\n",
       "      <th>low</th>\n",
       "      <th>close</th>\n",
       "      <th>volume</th>\n",
       "      <th>RSI</th>\n",
       "      <th>EMA_5</th>\n",
       "      <th>EMA_30</th>\n",
       "      <th>EMA_90</th>\n",
       "      <th>volume_sma_3</th>\n",
       "      <th>BB_upper</th>\n",
       "      <th>BB_middle</th>\n",
       "      <th>BB_lower</th>\n",
       "      <th>trend</th>\n",
       "      <th>action</th>\n",
       "      <th>amount</th>\n",
       "      <th>target_trend</th>\n",
       "      <th>target_action</th>\n",
       "      <th>target_amount</th>\n",
       "    </tr>\n",
       "    <tr>\n",
       "      <th>timestamp</th>\n",
       "      <th></th>\n",
       "      <th></th>\n",
       "      <th></th>\n",
       "      <th></th>\n",
       "      <th></th>\n",
       "      <th></th>\n",
       "      <th></th>\n",
       "      <th></th>\n",
       "      <th></th>\n",
       "      <th></th>\n",
       "      <th></th>\n",
       "      <th></th>\n",
       "      <th></th>\n",
       "      <th></th>\n",
       "      <th></th>\n",
       "      <th></th>\n",
       "      <th></th>\n",
       "      <th></th>\n",
       "      <th></th>\n",
       "    </tr>\n",
       "  </thead>\n",
       "  <tbody>\n",
       "    <tr>\n",
       "      <th>2023-01-01 00:00:00</th>\n",
       "      <td>16541.77</td>\n",
       "      <td>16544.76</td>\n",
       "      <td>16527.51</td>\n",
       "      <td>16535.38</td>\n",
       "      <td>486.60903</td>\n",
       "      <td>NaN</td>\n",
       "      <td>16535.380000</td>\n",
       "      <td>16535.380000</td>\n",
       "      <td>16535.380000</td>\n",
       "      <td>NaN</td>\n",
       "      <td>NaN</td>\n",
       "      <td>NaN</td>\n",
       "      <td>NaN</td>\n",
       "      <td>sideways</td>\n",
       "      <td>hold</td>\n",
       "      <td>half</td>\n",
       "      <td>sideways</td>\n",
       "      <td>hold</td>\n",
       "      <td>half</td>\n",
       "    </tr>\n",
       "    <tr>\n",
       "      <th>2023-01-01 00:05:00</th>\n",
       "      <td>16534.91</td>\n",
       "      <td>16540.43</td>\n",
       "      <td>16522.55</td>\n",
       "      <td>16526.67</td>\n",
       "      <td>391.19043</td>\n",
       "      <td>NaN</td>\n",
       "      <td>16532.476667</td>\n",
       "      <td>16534.818065</td>\n",
       "      <td>16535.188571</td>\n",
       "      <td>NaN</td>\n",
       "      <td>NaN</td>\n",
       "      <td>NaN</td>\n",
       "      <td>NaN</td>\n",
       "      <td>sideways</td>\n",
       "      <td>hold</td>\n",
       "      <td>half</td>\n",
       "      <td>sideways</td>\n",
       "      <td>hold</td>\n",
       "      <td>half</td>\n",
       "    </tr>\n",
       "    <tr>\n",
       "      <th>2023-01-01 00:10:00</th>\n",
       "      <td>16526.67</td>\n",
       "      <td>16530.87</td>\n",
       "      <td>16520.00</td>\n",
       "      <td>16520.69</td>\n",
       "      <td>294.73889</td>\n",
       "      <td>NaN</td>\n",
       "      <td>16528.547778</td>\n",
       "      <td>16533.906576</td>\n",
       "      <td>16534.869922</td>\n",
       "      <td>390.846117</td>\n",
       "      <td>NaN</td>\n",
       "      <td>NaN</td>\n",
       "      <td>NaN</td>\n",
       "      <td>sideways</td>\n",
       "      <td>hold</td>\n",
       "      <td>half</td>\n",
       "      <td>sideways</td>\n",
       "      <td>hold</td>\n",
       "      <td>half</td>\n",
       "    </tr>\n",
       "    <tr>\n",
       "      <th>2023-01-01 00:15:00</th>\n",
       "      <td>16521.26</td>\n",
       "      <td>16537.73</td>\n",
       "      <td>16517.72</td>\n",
       "      <td>16534.94</td>\n",
       "      <td>481.18777</td>\n",
       "      <td>NaN</td>\n",
       "      <td>16530.678519</td>\n",
       "      <td>16533.973249</td>\n",
       "      <td>16534.871462</td>\n",
       "      <td>389.039030</td>\n",
       "      <td>NaN</td>\n",
       "      <td>NaN</td>\n",
       "      <td>NaN</td>\n",
       "      <td>sideways</td>\n",
       "      <td>hold</td>\n",
       "      <td>half</td>\n",
       "      <td>sideways</td>\n",
       "      <td>hold</td>\n",
       "      <td>half</td>\n",
       "    </tr>\n",
       "    <tr>\n",
       "      <th>2023-01-01 00:20:00</th>\n",
       "      <td>16534.94</td>\n",
       "      <td>16540.66</td>\n",
       "      <td>16532.33</td>\n",
       "      <td>16535.54</td>\n",
       "      <td>309.53189</td>\n",
       "      <td>NaN</td>\n",
       "      <td>16532.299012</td>\n",
       "      <td>16534.074330</td>\n",
       "      <td>16534.886155</td>\n",
       "      <td>361.819517</td>\n",
       "      <td>NaN</td>\n",
       "      <td>NaN</td>\n",
       "      <td>NaN</td>\n",
       "      <td>sideways</td>\n",
       "      <td>hold</td>\n",
       "      <td>half</td>\n",
       "      <td>sideways</td>\n",
       "      <td>hold</td>\n",
       "      <td>half</td>\n",
       "    </tr>\n",
       "    <tr>\n",
       "      <th>...</th>\n",
       "      <td>...</td>\n",
       "      <td>...</td>\n",
       "      <td>...</td>\n",
       "      <td>...</td>\n",
       "      <td>...</td>\n",
       "      <td>...</td>\n",
       "      <td>...</td>\n",
       "      <td>...</td>\n",
       "      <td>...</td>\n",
       "      <td>...</td>\n",
       "      <td>...</td>\n",
       "      <td>...</td>\n",
       "      <td>...</td>\n",
       "      <td>...</td>\n",
       "      <td>...</td>\n",
       "      <td>...</td>\n",
       "      <td>...</td>\n",
       "      <td>...</td>\n",
       "      <td>...</td>\n",
       "    </tr>\n",
       "    <tr>\n",
       "      <th>2024-11-01 23:40:00</th>\n",
       "      <td>69485.12</td>\n",
       "      <td>69515.16</td>\n",
       "      <td>69479.90</td>\n",
       "      <td>69489.83</td>\n",
       "      <td>27.34582</td>\n",
       "      <td>57.351248</td>\n",
       "      <td>69499.354209</td>\n",
       "      <td>69397.646767</td>\n",
       "      <td>69503.901125</td>\n",
       "      <td>20.330643</td>\n",
       "      <td>69614.752757</td>\n",
       "      <td>69435.4080</td>\n",
       "      <td>69256.063243</td>\n",
       "      <td>sideways</td>\n",
       "      <td>hold</td>\n",
       "      <td>half</td>\n",
       "      <td>sideways</td>\n",
       "      <td>hold</td>\n",
       "      <td>half</td>\n",
       "    </tr>\n",
       "    <tr>\n",
       "      <th>2024-11-01 23:45:00</th>\n",
       "      <td>69489.83</td>\n",
       "      <td>69499.99</td>\n",
       "      <td>69472.00</td>\n",
       "      <td>69484.00</td>\n",
       "      <td>36.44869</td>\n",
       "      <td>56.777375</td>\n",
       "      <td>69494.236140</td>\n",
       "      <td>69403.217944</td>\n",
       "      <td>69503.463738</td>\n",
       "      <td>26.405213</td>\n",
       "      <td>69619.073497</td>\n",
       "      <td>69441.0075</td>\n",
       "      <td>69262.941503</td>\n",
       "      <td>sideways</td>\n",
       "      <td>hold</td>\n",
       "      <td>half</td>\n",
       "      <td>sideways</td>\n",
       "      <td>hold</td>\n",
       "      <td>half</td>\n",
       "    </tr>\n",
       "    <tr>\n",
       "      <th>2024-11-01 23:50:00</th>\n",
       "      <td>69484.01</td>\n",
       "      <td>69560.00</td>\n",
       "      <td>69478.00</td>\n",
       "      <td>69540.00</td>\n",
       "      <td>33.85343</td>\n",
       "      <td>60.831645</td>\n",
       "      <td>69509.490760</td>\n",
       "      <td>69412.042592</td>\n",
       "      <td>69504.266732</td>\n",
       "      <td>32.549313</td>\n",
       "      <td>69630.007115</td>\n",
       "      <td>69447.5075</td>\n",
       "      <td>69265.007885</td>\n",
       "      <td>sideways</td>\n",
       "      <td>hold</td>\n",
       "      <td>half</td>\n",
       "      <td>sideways</td>\n",
       "      <td>hold</td>\n",
       "      <td>half</td>\n",
       "    </tr>\n",
       "    <tr>\n",
       "      <th>2024-11-01 23:55:00</th>\n",
       "      <td>69539.99</td>\n",
       "      <td>69546.00</td>\n",
       "      <td>69496.00</td>\n",
       "      <td>69496.01</td>\n",
       "      <td>10.94950</td>\n",
       "      <td>56.359467</td>\n",
       "      <td>69504.997173</td>\n",
       "      <td>69417.459845</td>\n",
       "      <td>69504.085266</td>\n",
       "      <td>27.083873</td>\n",
       "      <td>69632.878937</td>\n",
       "      <td>69454.7080</td>\n",
       "      <td>69276.537063</td>\n",
       "      <td>sideways</td>\n",
       "      <td>hold</td>\n",
       "      <td>half</td>\n",
       "      <td>sideways</td>\n",
       "      <td>hold</td>\n",
       "      <td>half</td>\n",
       "    </tr>\n",
       "    <tr>\n",
       "      <th>2024-11-02 00:00:00</th>\n",
       "      <td>69496.00</td>\n",
       "      <td>69608.00</td>\n",
       "      <td>69479.91</td>\n",
       "      <td>69596.24</td>\n",
       "      <td>80.36416</td>\n",
       "      <td>63.028788</td>\n",
       "      <td>69535.411449</td>\n",
       "      <td>69428.994048</td>\n",
       "      <td>69506.110644</td>\n",
       "      <td>41.722363</td>\n",
       "      <td>69632.883181</td>\n",
       "      <td>69472.2200</td>\n",
       "      <td>69311.556819</td>\n",
       "      <td>sideways</td>\n",
       "      <td>hold</td>\n",
       "      <td>half</td>\n",
       "      <td>None</td>\n",
       "      <td>None</td>\n",
       "      <td>None</td>\n",
       "    </tr>\n",
       "  </tbody>\n",
       "</table>\n",
       "<p>193233 rows × 19 columns</p>\n",
       "</div>"
      ],
      "text/plain": [
       "                         open      high       low     close     volume  \\\n",
       "timestamp                                                                \n",
       "2023-01-01 00:00:00  16541.77  16544.76  16527.51  16535.38  486.60903   \n",
       "2023-01-01 00:05:00  16534.91  16540.43  16522.55  16526.67  391.19043   \n",
       "2023-01-01 00:10:00  16526.67  16530.87  16520.00  16520.69  294.73889   \n",
       "2023-01-01 00:15:00  16521.26  16537.73  16517.72  16534.94  481.18777   \n",
       "2023-01-01 00:20:00  16534.94  16540.66  16532.33  16535.54  309.53189   \n",
       "...                       ...       ...       ...       ...        ...   \n",
       "2024-11-01 23:40:00  69485.12  69515.16  69479.90  69489.83   27.34582   \n",
       "2024-11-01 23:45:00  69489.83  69499.99  69472.00  69484.00   36.44869   \n",
       "2024-11-01 23:50:00  69484.01  69560.00  69478.00  69540.00   33.85343   \n",
       "2024-11-01 23:55:00  69539.99  69546.00  69496.00  69496.01   10.94950   \n",
       "2024-11-02 00:00:00  69496.00  69608.00  69479.91  69596.24   80.36416   \n",
       "\n",
       "                           RSI         EMA_5        EMA_30        EMA_90  \\\n",
       "timestamp                                                                  \n",
       "2023-01-01 00:00:00        NaN  16535.380000  16535.380000  16535.380000   \n",
       "2023-01-01 00:05:00        NaN  16532.476667  16534.818065  16535.188571   \n",
       "2023-01-01 00:10:00        NaN  16528.547778  16533.906576  16534.869922   \n",
       "2023-01-01 00:15:00        NaN  16530.678519  16533.973249  16534.871462   \n",
       "2023-01-01 00:20:00        NaN  16532.299012  16534.074330  16534.886155   \n",
       "...                        ...           ...           ...           ...   \n",
       "2024-11-01 23:40:00  57.351248  69499.354209  69397.646767  69503.901125   \n",
       "2024-11-01 23:45:00  56.777375  69494.236140  69403.217944  69503.463738   \n",
       "2024-11-01 23:50:00  60.831645  69509.490760  69412.042592  69504.266732   \n",
       "2024-11-01 23:55:00  56.359467  69504.997173  69417.459845  69504.085266   \n",
       "2024-11-02 00:00:00  63.028788  69535.411449  69428.994048  69506.110644   \n",
       "\n",
       "                     volume_sma_3      BB_upper   BB_middle      BB_lower  \\\n",
       "timestamp                                                                   \n",
       "2023-01-01 00:00:00           NaN           NaN         NaN           NaN   \n",
       "2023-01-01 00:05:00           NaN           NaN         NaN           NaN   \n",
       "2023-01-01 00:10:00    390.846117           NaN         NaN           NaN   \n",
       "2023-01-01 00:15:00    389.039030           NaN         NaN           NaN   \n",
       "2023-01-01 00:20:00    361.819517           NaN         NaN           NaN   \n",
       "...                           ...           ...         ...           ...   \n",
       "2024-11-01 23:40:00     20.330643  69614.752757  69435.4080  69256.063243   \n",
       "2024-11-01 23:45:00     26.405213  69619.073497  69441.0075  69262.941503   \n",
       "2024-11-01 23:50:00     32.549313  69630.007115  69447.5075  69265.007885   \n",
       "2024-11-01 23:55:00     27.083873  69632.878937  69454.7080  69276.537063   \n",
       "2024-11-02 00:00:00     41.722363  69632.883181  69472.2200  69311.556819   \n",
       "\n",
       "                        trend action amount target_trend target_action  \\\n",
       "timestamp                                                                \n",
       "2023-01-01 00:00:00  sideways   hold   half     sideways          hold   \n",
       "2023-01-01 00:05:00  sideways   hold   half     sideways          hold   \n",
       "2023-01-01 00:10:00  sideways   hold   half     sideways          hold   \n",
       "2023-01-01 00:15:00  sideways   hold   half     sideways          hold   \n",
       "2023-01-01 00:20:00  sideways   hold   half     sideways          hold   \n",
       "...                       ...    ...    ...          ...           ...   \n",
       "2024-11-01 23:40:00  sideways   hold   half     sideways          hold   \n",
       "2024-11-01 23:45:00  sideways   hold   half     sideways          hold   \n",
       "2024-11-01 23:50:00  sideways   hold   half     sideways          hold   \n",
       "2024-11-01 23:55:00  sideways   hold   half     sideways          hold   \n",
       "2024-11-02 00:00:00  sideways   hold   half         None          None   \n",
       "\n",
       "                    target_amount  \n",
       "timestamp                          \n",
       "2023-01-01 00:00:00          half  \n",
       "2023-01-01 00:05:00          half  \n",
       "2023-01-01 00:10:00          half  \n",
       "2023-01-01 00:15:00          half  \n",
       "2023-01-01 00:20:00          half  \n",
       "...                           ...  \n",
       "2024-11-01 23:40:00          half  \n",
       "2024-11-01 23:45:00          half  \n",
       "2024-11-01 23:50:00          half  \n",
       "2024-11-01 23:55:00          half  \n",
       "2024-11-02 00:00:00          None  \n",
       "\n",
       "[193233 rows x 19 columns]"
      ]
     },
     "execution_count": 235,
     "metadata": {},
     "output_type": "execute_result"
    }
   ],
   "source": [
    "dataset"
   ]
  },
  {
   "cell_type": "code",
   "execution_count": 236,
   "id": "acc5a112",
   "metadata": {},
   "outputs": [],
   "source": [
    "# Drop rows with NaN values in the target\n",
    "df2 = dataset.dropna().copy()"
   ]
  },
  {
   "cell_type": "code",
   "execution_count": 237,
   "id": "661dbcc0",
   "metadata": {},
   "outputs": [],
   "source": [
    "# Fit and transform the labels\n",
    "df2['target_trend'] = lr_trend.fit_transform(df2['target_trend'])\n",
    "df2['target_action'] = lr_action.fit_transform(df2['target_action'])\n",
    "df2['target_amount'] = lr_amount.fit_transform(df2['target_amount'])"
   ]
  },
  {
   "cell_type": "code",
   "execution_count": 238,
   "id": "f2c4666b",
   "metadata": {},
   "outputs": [],
   "source": [
    "# Define features \n",
    "X = df2[['EMA_5', 'EMA_30', 'EMA_90', 'volume', 'RSI', 'BB_upper', 'BB_middle', 'BB_lower', 'volume_sma_3']]"
   ]
  },
  {
   "cell_type": "code",
   "execution_count": 239,
   "id": "ae1505d0",
   "metadata": {},
   "outputs": [],
   "source": [
    "# Define targets\n",
    "y_trend = df2['target_trend']\n",
    "y_action = df2['target_action']\n",
    "y_amount = df2['target_amount']"
   ]
  },
  {
   "cell_type": "code",
   "execution_count": 240,
   "id": "51d2f6d1",
   "metadata": {},
   "outputs": [],
   "source": [
    "# Split the data\n",
    "X_train_trend, X_test_trend, y_train_trend, y_test_trend = train_test_split(X, y_trend, test_size=0.2, random_state=101)\n",
    "X_train_action, X_test_action, y_train_action, y_test_action = train_test_split(X, y_action, test_size=0.2, random_state=101)\n",
    "X_train_amount, X_test_amount, y_train_amount, y_test_amount = train_test_split(X, y_amount, test_size=0.2, random_state=101)"
   ]
  },
  {
   "cell_type": "code",
   "execution_count": 259,
   "id": "42b3136e",
   "metadata": {},
   "outputs": [
    {
     "name": "stdout",
     "output_type": "stream",
     "text": [
      "accuracy: 0.6165670367207515\n",
      "precision: 0.5412508572522897\n",
      "recall: 0.6165670367207515\n",
      "f1_score: 0.5333879011182161\n",
      "[[    0   311     2     0     0]\n",
      " [    0 21657  1187   513     0]\n",
      " [    0  6686  2030     0     0]\n",
      " [    0  3992     0   139     0]\n",
      " [    0  2116     0    10     0]]\n"
     ]
    }
   ],
   "source": [
    "# Without Optimization\n",
    "#Trend Model\n",
    "model = LogisticRegression()\n",
    "model.fit(X_train_trend, y_train_trend)\n",
    "y_pred_trend = model.predict(X_test_trend)\n",
    "print(\"accuracy: \"+ str(accuracy_score(y_test_trend, y_pred_trend)))\n",
    "print(\"precision: \"+ str(precision_score(y_test_trend, y_pred_trend, average=\"weighted\")))\n",
    "print(\"recall: \" + str(recall_score(y_test_trend, y_pred_trend, average=\"weighted\")))\n",
    "print( \"f1_score: \" + str(f1_score(y_test_trend, y_pred_trend, average=\"weighted\")))\n",
    "print(confusion_matrix(y_test_trend, y_pred_trend))"
   ]
  },
  {
   "cell_type": "code",
   "execution_count": 260,
   "id": "483bc164",
   "metadata": {},
   "outputs": [
    {
     "name": "stdout",
     "output_type": "stream",
     "text": [
      "accuracy: 0.6153507750433455\n",
      "precision: 0.5646016397831869\n",
      "recall: 0.6153507750433455\n",
      "f1_score: 0.5449784394700956\n",
      "[[  261  5996     0]\n",
      " [  770 21156  1431]\n",
      " [    0  6667  2362]]\n"
     ]
    }
   ],
   "source": [
    "#Action Model\n",
    "model_action = LogisticRegression()\n",
    "model_action.fit(X_train_action, y_train_action)\n",
    "y_pred_action = model_action.predict(X_test_action)\n",
    "print(\"accuracy: \"+ str(accuracy_score(y_test_action, y_pred_action)))\n",
    "print(\"precision: \"+ str(precision_score(y_test_action, y_pred_action, average=\"weighted\")))\n",
    "print(\"recall: \" + str(recall_score(y_test_action, y_pred_action, average=\"weighted\")))\n",
    "print( \"f1_score: \" + str(f1_score(y_test_action, y_pred_action, average=\"weighted\")))\n",
    "print(confusion_matrix(y_test_action, y_pred_action))"
   ]
  },
  {
   "cell_type": "code",
   "execution_count": 261,
   "id": "b507d4e3",
   "metadata": {},
   "outputs": [
    {
     "name": "stdout",
     "output_type": "stream",
     "text": [
      "accuracy: 0.6868773128380302\n",
      "precision: 0.6786632885567833\n",
      "recall: 0.6868773128380302\n",
      "f1_score: 0.6053119932471733\n",
      "[[ 1552 11295]\n",
      " [  805 24991]]\n"
     ]
    }
   ],
   "source": [
    "#Amount Model\n",
    "model_amount = LogisticRegression()\n",
    "model_amount.fit(X_train_amount, y_train_amount)\n",
    "y_pred_amount = model_amount.predict(X_test_amount)\n",
    "print(\"accuracy: \"+ str(accuracy_score(y_test_amount, y_pred_amount)))\n",
    "print(\"precision: \"+ str(precision_score(y_test_amount, y_pred_amount, average=\"weighted\")))\n",
    "print(\"recall: \" + str(recall_score(y_test_amount, y_pred_amount, average=\"weighted\")))\n",
    "print( \"f1_score: \" + str(f1_score(y_test_amount, y_pred_amount, average=\"weighted\")))\n",
    "print(confusion_matrix(y_test_amount, y_pred_amount))"
   ]
  },
  {
   "cell_type": "code",
   "execution_count": 256,
   "id": "41c3bd11",
   "metadata": {},
   "outputs": [],
   "source": [
    "import warnings\n",
    "warnings.filterwarnings('ignore')"
   ]
  },
  {
   "cell_type": "code",
   "execution_count": 262,
   "id": "7b65b85e",
   "metadata": {},
   "outputs": [],
   "source": [
    "# With Parameter Optimization\n",
    "param_grid = {\"C\": [0.1, 1, 10], \"max_iter\": [500,1000],\"penalty\": [\"l2\", \"elasticnet\"]}\n",
    "#grid_search = GridSearchCV(LogisticRegression(max_iter=500), param_grid, cv=5)"
   ]
  },
  {
   "cell_type": "code",
   "execution_count": 263,
   "id": "d7ee88b4",
   "metadata": {},
   "outputs": [],
   "source": [
    "# Grid search for each target model\n",
    "def optimize_model(X_train, y_train):\n",
    "    model = LogisticRegression()\n",
    "    grid_search = GridSearchCV(estimator=model, param_grid=param_grid, cv=5,scoring='accuracy')\n",
    "    grid_search.fit(X_train, y_train)\n",
    "    print(f\"Best parameters found: {grid_search.best_params_}\")\n",
    "    return grid_search.best_estimator_"
   ]
  },
  {
   "cell_type": "code",
   "execution_count": 264,
   "id": "02bd8f31",
   "metadata": {},
   "outputs": [
    {
     "name": "stdout",
     "output_type": "stream",
     "text": [
      "Optimizing trend model...\n",
      "Best parameters found: {'C': 0.1, 'max_iter': 1000, 'penalty': 'l2'}\n"
     ]
    }
   ],
   "source": [
    "# Optimize Trend Model\n",
    "print(\"Optimizing trend model...\")\n",
    "model_trend = optimize_model(X_train_trend, y_train_trend)"
   ]
  },
  {
   "cell_type": "code",
   "execution_count": 265,
   "id": "9264c6da",
   "metadata": {},
   "outputs": [
    {
     "name": "stdout",
     "output_type": "stream",
     "text": [
      "Optimizing action model...\n",
      "Best parameters found: {'C': 0.1, 'max_iter': 500, 'penalty': 'l2'}\n"
     ]
    }
   ],
   "source": [
    "# Optimize Action Model\n",
    "print(\"Optimizing action model...\")\n",
    "model_action = optimize_model(X_train_action, y_train_action)"
   ]
  },
  {
   "cell_type": "code",
   "execution_count": 266,
   "id": "69c4d8bc",
   "metadata": {},
   "outputs": [
    {
     "name": "stdout",
     "output_type": "stream",
     "text": [
      "Optimizing amount model...\n",
      "Best parameters found: {'C': 10, 'max_iter': 500, 'penalty': 'l2'}\n"
     ]
    }
   ],
   "source": [
    "# Optimize Amount Model\n",
    "print(\"Optimizing amount model...\")\n",
    "model_amount = optimize_model(X_train_amount, y_train_amount)"
   ]
  },
  {
   "cell_type": "code",
   "execution_count": 267,
   "id": "30f2afa6",
   "metadata": {},
   "outputs": [
    {
     "name": "stdout",
     "output_type": "stream",
     "text": [
      "accuracy: 0.656858939523329\n",
      "precision: 0.586042448136812\n",
      "recall: 0.656858939523329\n",
      "f1_score: 0.5886966894042013\n",
      "[[    0   310     3     0     0]\n",
      " [    0 21360  1735   211    51]\n",
      " [    0  4773  3943     0     0]\n",
      " [    0  4059     1    71     0]\n",
      " [    0  2020    97     0     9]]\n"
     ]
    }
   ],
   "source": [
    "#Trend Model\n",
    "y_pred_optimized_trend = model_trend.predict(X_test_trend)\n",
    "print(\"accuracy: \"+ str(accuracy_score(y_test_trend, y_pred_optimized_trend)))\n",
    "print(\"precision: \"+ str(precision_score(y_test_trend, y_pred_optimized_trend, average=\"weighted\")))\n",
    "print(\"recall: \" + str(recall_score(y_test_trend, y_pred_optimized_trend, average=\"weighted\")))\n",
    "print( \"f1_score: \" + str(f1_score(y_test_trend, y_pred_optimized_trend, average=\"weighted\")))\n",
    "print(confusion_matrix(y_test_trend, y_pred_optimized_trend))"
   ]
  },
  {
   "cell_type": "code",
   "execution_count": 268,
   "id": "2089428a",
   "metadata": {},
   "outputs": [
    {
     "name": "stdout",
     "output_type": "stream",
     "text": [
      "accuracy: 0.652899619594752\n",
      "precision: 0.5939979886903722\n",
      "recall: 0.652899619594752\n",
      "f1_score: 0.5840824369899223\n",
      "[[   78  6155    24]\n",
      " [  242 21486  1629]\n",
      " [    0  5363  3666]]\n"
     ]
    }
   ],
   "source": [
    "#Action Model\n",
    "y_pred_optimized_action = model_action.predict(X_test_action)\n",
    "print(\"accuracy: \"+ str(accuracy_score(y_test_action, y_pred_optimized_action)))\n",
    "print(\"precision: \"+ str(precision_score(y_test_action, y_pred_optimized_action, average=\"weighted\")))\n",
    "print(\"recall: \" + str(recall_score(y_test_action, y_pred_optimized_action, average=\"weighted\")))\n",
    "print( \"f1_score: \" + str(f1_score(y_test_action, y_pred_optimized_action, average=\"weighted\")))\n",
    "print(confusion_matrix(y_test_action, y_pred_optimized_action))"
   ]
  },
  {
   "cell_type": "code",
   "execution_count": 269,
   "id": "6329f3ca",
   "metadata": {},
   "outputs": [
    {
     "name": "stdout",
     "output_type": "stream",
     "text": [
      "accuracy: 0.68390135341459\n",
      "precision: 0.673508161459408\n",
      "recall: 0.68390135341459\n",
      "f1_score: 0.5979590645810814\n",
      "[[ 1380 11467]\n",
      " [  748 25048]]\n"
     ]
    }
   ],
   "source": [
    "#Amount Model\n",
    "y_pred_optimized_amount = model_amount.predict(X_test_amount)\n",
    "print(\"accuracy: \"+ str(accuracy_score(y_test_amount, y_pred_optimized_amount)))\n",
    "print(\"precision: \"+ str(precision_score(y_test_amount, y_pred_optimized_amount, average=\"weighted\")))\n",
    "print(\"recall: \" + str(recall_score(y_test_amount, y_pred_optimized_amount, average=\"weighted\")))\n",
    "print( \"f1_score: \" + str(f1_score(y_test_amount, y_pred_optimized_amount, average=\"weighted\")))\n",
    "print(confusion_matrix(y_test_amount, y_pred_optimized_amount))"
   ]
  }
 ],
 "metadata": {
  "kernelspec": {
   "display_name": "Python 3 (ipykernel)",
   "language": "python",
   "name": "python3"
  },
  "language_info": {
   "codemirror_mode": {
    "name": "ipython",
    "version": 3
   },
   "file_extension": ".py",
   "mimetype": "text/x-python",
   "name": "python",
   "nbconvert_exporter": "python",
   "pygments_lexer": "ipython3",
   "version": "3.10.9"
  }
 },
 "nbformat": 4,
 "nbformat_minor": 5
}
